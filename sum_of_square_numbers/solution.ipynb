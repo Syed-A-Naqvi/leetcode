{
 "cells": [
  {
   "cell_type": "code",
   "execution_count": 7,
   "metadata": {
    "metadata": {}
   },
   "outputs": [],
   "source": [
    "import numpy as np"
   ]
  },
  {
   "cell_type": "markdown",
   "metadata": {},
   "source": [
    "### Sum of Square Numbers\n",
    "\n",
    "- we want to find two numbers such that the sum of their squares results in the original number\n",
    "\n",
    "- for any given integer c, two smaller integers a and b such that a^2 + b^2 = c must neccessarily be less than sqrt(c)\n",
    "\n",
    "    - we can start by taking the floor of the square root of c\n",
    "\n",
    "    - we then start two counters: the first moves back from floor(sqrt(c)) and the other moves up from 1\n",
    "\n",
    "    - as soon as the sum of the squares of the counters equals the original number we have found a match else if the counters pass each other we know this number is not a sum of two square numbers\n",
    "\n"
   ]
  },
  {
   "cell_type": "code",
   "execution_count": 8,
   "metadata": {
    "metadata": {}
   },
   "outputs": [
    {
     "name": "stdout",
     "output_type": "stream",
     "text": [
      "(1, 2, True)\n",
      "3\n"
     ]
    }
   ],
   "source": [
    "def judgeSumSquares(c):\n",
    "    if(np.sqrt(c)%1 == 0):\n",
    "        b  = int(np.sqrt(c)) - 1\n",
    "    else:\n",
    "        b = int(np.sqrt(c))\n",
    "    \n",
    "    minimum = 0\n",
    "        \n",
    "    while(b > minimum):\n",
    "        \n",
    "        a = np.sqrt(c - b**2)\n",
    "        \n",
    "        if(a%1 == 0):\n",
    "            return (int(a),b,True)\n",
    "        else:\n",
    "            minimum = a\n",
    "            b -= 1\n",
    "    \n",
    "    return (0,0,False)\n"
   ]
  },
  {
   "cell_type": "code",
   "execution_count": 13,
   "metadata": {
    "metadata": {}
   },
   "outputs": [
    {
     "name": "stdout",
     "output_type": "stream",
     "text": [
      "(0, 0, False)\n"
     ]
    }
   ],
   "source": [
    "print(judgeSumSquares(4))"
   ]
  },
  {
   "cell_type": "code",
   "execution_count": 14,
   "metadata": {
    "metadata": {}
   },
   "outputs": [
    {
     "name": "stdout",
     "output_type": "stream",
     "text": [
      "0\n"
     ]
    }
   ],
   "source": [
    "print(0%1)"
   ]
  }
 ],
 "metadata": {
  "kernelspec": {
   "display_name": "Python (ml)",
   "language": "python",
   "name": "ml"
  },
  "language_info": {
   "codemirror_mode": {
    "name": "ipython",
    "version": 3
   },
   "file_extension": ".py",
   "mimetype": "text/x-python",
   "name": "python",
   "nbconvert_exporter": "python",
   "pygments_lexer": "ipython3",
   "version": "3.12.2"
  }
 },
 "nbformat": 4,
 "nbformat_minor": 2
}
