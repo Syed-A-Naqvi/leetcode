{
 "cells": [
  {
   "cell_type": "code",
   "execution_count": 1,
   "metadata": {},
   "outputs": [],
   "source": [
    "import numpy as np"
   ]
  },
  {
   "cell_type": "markdown",
   "metadata": {},
   "source": [
    "### Sum of Square Numbers\n",
    "\n",
    "- we want to find two numbers such that the sum of their squares results in the original number\n",
    "\n",
    "- for any given integer c, two smaller integers a and b such that a^2 + b^2 = c must neccessarily be less than sqrt(c)\n",
    "\n",
    "    - we can start by taking the floor of the square root of c\n",
    "\n",
    "    - we then start two counters: the first moves back from floor(sqrt(c)) and the other moves up from 1\n",
    "\n",
    "    - as soon as the sum of the squares of the counters equals the original number we have found a match else if the counters pass each other we know this number is not a sum of two square numbers\n",
    "\n"
   ]
  },
  {
   "cell_type": "code",
   "execution_count": 14,
   "metadata": {},
   "outputs": [],
   "source": [
    "def judgeSumSquares(c):\n",
    "    if (np.sqrt(c)%2 == 0):\n",
    "        b = int(np.sqrt(c)) - 1\n",
    "    else:\n",
    "        b = int(np.floor(np.sqrt(c)))\n",
    "    a = 1\n",
    "    \n",
    "    \n",
    "    while(not(a > b)):\n",
    "        print(f\"a:{a} b:{b} c:{c}\")\n",
    "        if (a**2 + b**2) == c:\n",
    "            return (a,b)\n",
    "        elif (a**2 + b**2) > c:\n",
    "            b -= 1\n",
    "        else:\n",
    "            a += 1\n",
    "    \n",
    "    return (0,0)\n",
    "    "
   ]
  },
  {
   "cell_type": "code",
   "execution_count": 16,
   "metadata": {},
   "outputs": [
    {
     "name": "stdout",
     "output_type": "stream",
     "text": [
      "a:1 b:9 c:85\n",
      "a:2 b:9 c:85\n",
      "(2, 9)\n"
     ]
    }
   ],
   "source": [
    "print(judgeSumSquares(85))"
   ]
  },
  {
   "cell_type": "code",
   "execution_count": null,
   "metadata": {},
   "outputs": [],
   "source": []
  }
 ],
 "metadata": {
  "kernelspec": {
   "display_name": "base",
   "language": "python",
   "name": "python3"
  },
  "language_info": {
   "codemirror_mode": {
    "name": "ipython",
    "version": 3
   },
   "file_extension": ".py",
   "mimetype": "text/x-python",
   "name": "python",
   "nbconvert_exporter": "python",
   "pygments_lexer": "ipython3",
   "version": "3.12.3"
  }
 },
 "nbformat": 4,
 "nbformat_minor": 2
}
